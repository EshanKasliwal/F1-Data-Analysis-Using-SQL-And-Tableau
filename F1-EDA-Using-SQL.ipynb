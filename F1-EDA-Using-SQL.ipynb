{
 "cells": [
  {
   "cell_type": "markdown",
   "metadata": {},
   "source": [
    "# Exploratory Data Analysis on F1 using SQL\n",
    "Queries covered in this notebook:\n",
    "1. Finding locations that hosted maximum number of race\n",
    "2. Finding circuits that hosted opening races\n",
    "3. Number of races hosted by every country\n",
    "4. All-time constructor points and leaders\n",
    "5. Number of races organized per season\n",
    "6. Comparison of all-time top 10 teams (based on points and races won)\n",
    "7. Number of races won by top 10 drivers\n",
    "8. Finding the fastest laps on each circuit\n",
    "9. Number of constructors from each country\n",
    "10. Finding the fastest qualification times on every circuit for pole position\n",
    "11. Drivers who have won at least one race"
   ]
  },
  {
   "cell_type": "markdown",
   "metadata": {},
   "source": [
    "Importing Libraries"
   ]
  },
  {
   "cell_type": "code",
   "execution_count": 1,
   "metadata": {},
   "outputs": [],
   "source": [
    "import pandas as pd\n",
    "import sqlite3\n",
    "import plotly.express as px\n",
    "import plotly.graph_objects as go\n",
    "import os "
   ]
  },
  {
   "cell_type": "markdown",
   "metadata": {},
   "source": [
    "Establishing Connection Between The SQLITE3 Database "
   ]
  },
  {
   "cell_type": "code",
   "execution_count": 2,
   "metadata": {},
   "outputs": [],
   "source": [
    "conn = sqlite3.connect(\"F1.db\")"
   ]
  },
  {
   "cell_type": "markdown",
   "metadata": {},
   "source": [
    "Reading CSV Files"
   ]
  },
  {
   "cell_type": "code",
   "execution_count": 6,
   "metadata": {},
   "outputs": [],
   "source": [
    "data_1 = pd.read_csv(\"Dataset\\circuits.csv\")\n",
    "data_2 = pd.read_csv(\"Dataset\\constructor_results.csv\")\n",
    "data_3 = pd.read_csv(\"Dataset\\constructor_standings.csv\")\n",
    "data_4 = pd.read_csv(\"Dataset\\constructors.csv\")\n",
    "data_5 = pd.read_csv(\"Dataset\\driver_standings.csv\")\n",
    "data_6 = pd.read_csv(\"Dataset\\drivers.csv\")\n",
    "data_7 = pd.read_csv(\"Dataset\\lap_times.csv\")\n",
    "data_8 = pd.read_csv(\"Dataset\\pit_stops.csv\")\n",
    "data_9 = pd.read_csv(\"Dataset\\qualifying.csv\")\n",
    "data_10 = pd.read_csv(\"D:\\\\Programming\\\\Projects\\\\SQL & Tableau\\\\F1 EDA using SQL & Tableau\\\\Dataset\\\\races.csv\")\n",
    "data_11 = pd.read_csv(\"Dataset\\seasons.csv\")\n",
    "data_12 = pd.read_csv(\"Dataset\\status.csv\")\n",
    "data_13 = pd.read_csv(\"D:\\\\Programming\\\\Projects\\\\SQL & Tableau\\\\F1 EDA using SQL & Tableau\\\\Dataset\\\\results.csv\")\n",
    "data_14 = pd.read_csv(\"Dataset\\sprint_results.csv\")"
   ]
  },
  {
   "cell_type": "markdown",
   "metadata": {},
   "source": [
    "Inserting Data Into SQL Tables "
   ]
  },
  {
   "cell_type": "code",
   "execution_count": 7,
   "metadata": {},
   "outputs": [
    {
     "data": {
      "text/plain": [
       "180"
      ]
     },
     "execution_count": 7,
     "metadata": {},
     "output_type": "execute_result"
    }
   ],
   "source": [
    "data_1.to_sql(\"circuits\", conn)\n",
    "data_2.to_sql(\"constructor_results\", conn)\n",
    "data_3.to_sql(\"constructor_standings\", conn)\n",
    "data_4.to_sql(\"constructors\", conn)\n",
    "data_5.to_sql(\"driver_standings\", conn)\n",
    "data_6.to_sql(\"drivers\", conn)\n",
    "data_7.to_sql(\"lap_times\", conn)\n",
    "data_8.to_sql(\"pit_stops\", conn)\n",
    "data_9.to_sql(\"qualifying\", conn)\n",
    "data_10.to_sql(\"races\", conn)\n",
    "data_11.to_sql(\"seasons\", conn)\n",
    "data_12.to_sql(\"status\", conn)\n",
    "data_13.to_sql(\"results\", conn)\n",
    "data_14.to_sql(\"sprint_results\", conn)"
   ]
  },
  {
   "cell_type": "code",
   "execution_count": null,
   "metadata": {},
   "outputs": [],
   "source": []
  }
 ],
 "metadata": {
  "kernelspec": {
   "display_name": "Python 3",
   "language": "python",
   "name": "python3"
  },
  "language_info": {
   "codemirror_mode": {
    "name": "ipython",
    "version": 3
   },
   "file_extension": ".py",
   "mimetype": "text/x-python",
   "name": "python",
   "nbconvert_exporter": "python",
   "pygments_lexer": "ipython3",
   "version": "3.11.1"
  }
 },
 "nbformat": 4,
 "nbformat_minor": 2
}
